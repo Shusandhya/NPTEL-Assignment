{
 "cells": [
  {
   "cell_type": "code",
   "execution_count": 27,
   "id": "6909645a-3da8-4540-9ad4-348b66c97e72",
   "metadata": {},
   "outputs": [],
   "source": [
    "def average(lst):\n",
    "    return(sum(lst)/len(lst))\n",
    "def rainaverage(l):\n",
    "    lst1=[]\n",
    "   \n",
    "    for i in range(len(l)):\n",
    "        \n",
    "        lst=[]\n",
    "        j=0\n",
    "        sum1=0\n",
    "        while j<len(l): \n",
    "            if l[i]==l[j]:\n",
    "                sum1=sum1+int(l[i][j])\n",
    "        \n",
    "        lst1.append((l[i], sum1/len(l)))\n",
    "    return(lst1)\n",
    "        \n",
    "                 \n",
    "        \n",
    "            \n",
    "    \n",
    "    "
   ]
  },
  {
   "cell_type": "code",
   "execution_count": 28,
   "id": "0672e61b-1c33-486a-8457-027e46dc3e20",
   "metadata": {},
   "outputs": [],
   "source": [
    "l=[('Bombay',848),('Madras',103),('Bombay',923),('Bangalore',201),('Madras',128)]"
   ]
  },
  {
   "cell_type": "code",
   "execution_count": 28,
   "id": "27fb959a-c51d-4231-986a-6afdac9ef772",
   "metadata": {},
   "outputs": [],
   "source": [
    "l=[('Bombay',848),('Madras',103),('Bombay',923),('Bangalore',201),('Madras',128)]"
   ]
  },
  {
   "cell_type": "code",
   "execution_count": 29,
   "id": "8b3a1a75-f128-4b72-b5f3-ea35f9144dab",
   "metadata": {},
   "outputs": [
    {
     "ename": "ValueError",
     "evalue": "invalid literal for int() with base 10: 'Bombay'",
     "output_type": "error",
     "traceback": [
      "\u001b[0;31m---------------------------------------------------------------------------\u001b[0m",
      "\u001b[0;31mValueError\u001b[0m                                Traceback (most recent call last)",
      "Cell \u001b[0;32mIn[29], line 1\u001b[0m\n\u001b[0;32m----> 1\u001b[0m \u001b[43mrainaverage\u001b[49m\u001b[43m(\u001b[49m\u001b[43ml\u001b[49m\u001b[43m)\u001b[49m\n",
      "Cell \u001b[0;32mIn[27], line 13\u001b[0m, in \u001b[0;36mrainaverage\u001b[0;34m(l)\u001b[0m\n\u001b[1;32m     11\u001b[0m     \u001b[38;5;28;01mwhile\u001b[39;00m j\u001b[38;5;241m<\u001b[39m\u001b[38;5;28mlen\u001b[39m(l): \n\u001b[1;32m     12\u001b[0m         \u001b[38;5;28;01mif\u001b[39;00m l[i]\u001b[38;5;241m==\u001b[39ml[j]:\n\u001b[0;32m---> 13\u001b[0m             sum1\u001b[38;5;241m=\u001b[39msum1\u001b[38;5;241m+\u001b[39m\u001b[38;5;28;43mint\u001b[39;49m\u001b[43m(\u001b[49m\u001b[43ml\u001b[49m\u001b[43m[\u001b[49m\u001b[43mi\u001b[49m\u001b[43m]\u001b[49m\u001b[43m[\u001b[49m\u001b[43mj\u001b[49m\u001b[43m]\u001b[49m\u001b[43m)\u001b[49m\n\u001b[1;32m     15\u001b[0m     lst1\u001b[38;5;241m.\u001b[39mappend((l[i], sum1\u001b[38;5;241m/\u001b[39m\u001b[38;5;28mlen\u001b[39m(l)))\n\u001b[1;32m     16\u001b[0m \u001b[38;5;28;01mreturn\u001b[39;00m(lst1)\n",
      "\u001b[0;31mValueError\u001b[0m: invalid literal for int() with base 10: 'Bombay'"
     ]
    }
   ],
   "source": [
    "rainaverage(l)"
   ]
  },
  {
   "cell_type": "code",
   "execution_count": null,
   "id": "6a3e004a-3558-4fd1-a7c0-2779ef8f0f7a",
   "metadata": {},
   "outputs": [],
   "source": [
    "def average(lst):\n",
    "    return(sum(lst)/len(lst))\n",
    "def rainaverage(l):\n",
    "    lst1=[]\n",
    "   \n",
    "    for i in range(len(l)):\n",
    "        \n",
    "        lst=[]\n",
    "        j=0\n",
    "        sum1=0\n",
    "        while j<len(l): \n",
    "            if l[i]==l[j]:\n",
    "                print(l[i][j])\n",
    "            j=j+1\n",
    "        \n",
    "        lst1.append((l[i], sum1/len(l)))\n",
    "    return(lst1)\n",
    "        "
   ]
  },
  {
   "cell_type": "code",
   "execution_count": null,
   "id": "136cc054-7a44-4629-a0a3-a84fbbb27eff",
   "metadata": {},
   "outputs": [],
   "source": [
    "l=[('Bombay',848),('Madras',103),('Bombay',923),('Bangalore',201),('Madras',128)]"
   ]
  },
  {
   "cell_type": "code",
   "execution_count": null,
   "id": "72b811f2-446d-46dc-9de2-8cbbdfa1b6be",
   "metadata": {},
   "outputs": [],
   "source": [
    "rainaverage(l)"
   ]
  },
  {
   "cell_type": "code",
   "execution_count": null,
   "id": "6bfbda37-7728-4285-8e14-d85df2da7194",
   "metadata": {},
   "outputs": [],
   "source": []
  },
  {
   "cell_type": "code",
   "execution_count": null,
   "id": "82759836-f71d-4ba2-b3f1-0bda972f32aa",
   "metadata": {},
   "outputs": [],
   "source": []
  },
  {
   "cell_type": "code",
   "execution_count": null,
   "id": "b5b80952-d2da-4a9f-849a-d8e011b025fc",
   "metadata": {},
   "outputs": [],
   "source": [
    "l=[22,14,19,65,82,55]"
   ]
  },
  {
   "cell_type": "code",
   "execution_count": null,
   "id": "df35d717-d8e2-4377-aea2-c1c50697d6c5",
   "metadata": {},
   "outputs": [],
   "source": [
    "l"
   ]
  },
  {
   "cell_type": "code",
   "execution_count": 5,
   "id": "0accf4c2-87f6-4e66-9c3e-bb054fdda54a",
   "metadata": {},
   "outputs": [
    {
     "data": {
      "text/plain": [
       "float"
      ]
     },
     "execution_count": 5,
     "metadata": {},
     "output_type": "execute_result"
    }
   ],
   "source": [
    "average(l)"
   ]
  },
  {
   "cell_type": "code",
   "execution_count": null,
   "id": "2738593a-344b-4b14-bafc-3131c5d210f0",
   "metadata": {},
   "outputs": [],
   "source": [
    "dict([('Bombay',848),('Madras',103),('Bombay',923),('Bangalore',201),('Madras',128)])"
   ]
  },
  {
   "cell_type": "code",
   "execution_count": 2,
   "id": "76a0c567-6ec1-4fc2-92ac-7be80fb58f49",
   "metadata": {},
   "outputs": [],
   "source": [
    "lst=[('Bombay',848),('Madras',103),('Bombay',923),('Bangalore',201),('Madras',128)]"
   ]
  },
  {
   "cell_type": "code",
   "execution_count": null,
   "id": "b14db10c-e3de-45b7-a9ea-655bd96893a3",
   "metadata": {},
   "outputs": [],
   "source": [
    "lst[2][1]"
   ]
  },
  {
   "cell_type": "code",
   "execution_count": null,
   "id": "7278f488-c32e-401a-8f3f-e16ac91e5568",
   "metadata": {},
   "outputs": [],
   "source": [
    "shu={'Bombay': 923, 'Madras': 128, 'Bangalore': 201}"
   ]
  },
  {
   "cell_type": "code",
   "execution_count": null,
   "id": "7046bfeb-9817-4f73-9e9c-8082bb266b0b",
   "metadata": {},
   "outputs": [],
   "source": [
    "list(shu.items())"
   ]
  },
  {
   "cell_type": "code",
   "execution_count": 4,
   "id": "e1db4d8d-6bdb-49de-a11f-5b460cddec6e",
   "metadata": {},
   "outputs": [],
   "source": [
    "def average(lst):\n",
    "    return(sum(lst)/len(lst))\n",
    "def rainaverage(l):\n",
    "    lst1=[]\n",
    "    lst3=[]\n",
    "    for i in range(len(l)):\n",
    "        lst2=[]\n",
    "        for j in range(len(l)):\n",
    "            if l[i][0]==l[j][0]:\n",
    "                lst2.append(l[j][1])\n",
    "        lst1.append((l[i][0], average(lst2)))\n",
    "    lst3= dict(lst1)\n",
    "    key=list(lst3.keys())\n",
    "    key.sort()\n",
    "    return(list({i:lst3[i] for i in key}.items()))\n",
    "     "
   ]
  },
  {
   "cell_type": "code",
   "execution_count": 5,
   "id": "8812e324-faf2-4a38-8c67-24793d0d4bc9",
   "metadata": {},
   "outputs": [
    {
     "data": {
      "text/plain": [
       "[('Bangalore', 201.0), ('Bombay', 885.5), ('Madras', 115.5)]"
      ]
     },
     "execution_count": 5,
     "metadata": {},
     "output_type": "execute_result"
    }
   ],
   "source": [
    "rainaverage(lst)"
   ]
  },
  {
   "cell_type": "code",
   "execution_count": 16,
   "id": "047b33c5-958a-4b4e-9ea8-08977ff133b6",
   "metadata": {},
   "outputs": [],
   "source": [
    "l=[1,2,[3],[4,[5,6]]]"
   ]
  },
  {
   "cell_type": "code",
   "execution_count": 25,
   "id": "84f7c88b-5f36-4ec6-8e3a-dd178c618792",
   "metadata": {},
   "outputs": [],
   "source": [
    "def flatten(l):\n",
    "    lst1=[]\n",
    "    for i in range(len(l)):\n",
    "        if type(l[i])==int:\n",
    "            lst1.append(l[i])\n",
    "        elif type(l[i])==tuple:\n",
    "            lst1.append(l[i])\n",
    "        elif type(l[i])==list:\n",
    "            for j in range(len(l[i])):\n",
    "                if type(l[i][j])==list:\n",
    "                    #flatten(l[i][j])\n",
    "                    for k in range(len(l[i][j])):\n",
    "                                   lst1.append(l[i][j][k])\n",
    "                                   \n",
    "                else:\n",
    "                    lst1.append(l[i][j])\n",
    "    return lst1\n",
    "                    \n",
    "                \n",
    "            "
   ]
  },
  {
   "cell_type": "code",
   "execution_count": 26,
   "id": "526db79b-ffea-442e-81e8-b3b571006134",
   "metadata": {},
   "outputs": [
    {
     "data": {
      "text/plain": [
       "[1, 2, 3, 4, 5, 6]"
      ]
     },
     "execution_count": 26,
     "metadata": {},
     "output_type": "execute_result"
    }
   ],
   "source": [
    "flatten(l)"
   ]
  },
  {
   "cell_type": "code",
   "execution_count": 10,
   "id": "164d6152-c3f3-4686-9bd5-dcd636ff9683",
   "metadata": {},
   "outputs": [],
   "source": [
    "l2=[1,2,3,(4,5,6)]"
   ]
  },
  {
   "cell_type": "code",
   "execution_count": 11,
   "id": "3ed746a3-b333-4787-aa34-77367ac62fc9",
   "metadata": {},
   "outputs": [
    {
     "data": {
      "text/plain": [
       "[1, 2, 3, (4, 5, 6)]"
      ]
     },
     "execution_count": 11,
     "metadata": {},
     "output_type": "execute_result"
    }
   ],
   "source": [
    "flatten(l2)"
   ]
  },
  {
   "cell_type": "code",
   "execution_count": null,
   "id": "2b615926-5648-4bd3-9adc-9aff737f2fe7",
   "metadata": {},
   "outputs": [],
   "source": []
  },
  {
   "cell_type": "code",
   "execution_count": null,
   "id": "9f13fc7f-da17-4aa1-9e2f-e18d8a70b47f",
   "metadata": {},
   "outputs": [],
   "source": []
  }
 ],
 "metadata": {
  "kernelspec": {
   "display_name": "Python 3 (ipykernel)",
   "language": "python",
   "name": "python3"
  },
  "language_info": {
   "codemirror_mode": {
    "name": "ipython",
    "version": 3
   },
   "file_extension": ".py",
   "mimetype": "text/x-python",
   "name": "python",
   "nbconvert_exporter": "python",
   "pygments_lexer": "ipython3",
   "version": "3.10.8"
  }
 },
 "nbformat": 4,
 "nbformat_minor": 5
}
